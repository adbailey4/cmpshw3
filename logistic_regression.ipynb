{
 "cells": [
  {
   "cell_type": "code",
   "execution_count": null,
   "metadata": {
    "collapsed": true
   },
   "outputs": [],
   "source": [
    "########################################################\n",
    "# this imports all the functions in logistic regression\n",
    "# you should be able to run this cell at any time to \n",
    "# \"reload\" the functions\n",
    "########################################################\n",
    "\n",
    "from logistic_regression import *"
   ]
  },
  {
   "cell_type": "code",
   "execution_count": null,
   "metadata": {},
   "outputs": [],
   "source": [
    "########################################################\n",
    "# prepare and load the training data.  this involves\n",
    "# reading in the data and finding the best features\n",
    "########################################################\n",
    "\n",
    "# if cant find stopwords you can download using this:\n",
    "# import nltk\n",
    "# nltk.download('stopwords')\n",
    "\n",
    "stop_words = stopwords.words('english')\n",
    "# test_data = 'test.csv'\n",
    "train_data = 'train.csv'\n",
    "\n",
    "messages, text_labels = read_spam_data(train_data)\n",
    "all_train_data = create_train_data(messages, stop_words)\n",
    "int_labels = create_spam_ham_labels(text_labels, spam=1, ham=0)\n",
    "print(all_train_data.shape)\n",
    "# make sure everything is still aligned\n",
    "assert all_train_data.shape[0] == len(messages)\n",
    "assert all_train_data.shape[0] == len(int_labels)\n",
    "assert all_train_data.shape[0] == len(text_labels)\n",
    "n_features = all_train_data.shape[1]"
   ]
  },
  {
   "cell_type": "code",
   "execution_count": null,
   "metadata": {},
   "outputs": [],
   "source": [
    "########################################################\n",
    "# this is the definition of the hyper parameters for\n",
    "# the regression\n",
    "########################################################\n",
    "\n",
    "eta_0 = 0.1\n",
    "alpha = 0.9\n",
    "# l is the lambda (regularizer)\n",
    "list_of_lambdas = [e**i for i in range(-5,1)] #np.linspace(0, .07, 5)"
   ]
  },
  {
   "cell_type": "code",
   "execution_count": null,
   "metadata": {},
   "outputs": [],
   "source": [
    "########################################################\n",
    "# divide the data for 10-fold cross validation\n",
    "########################################################\n",
    "\n",
    "# todo\n",
    "\n",
    "X = all_train_data\n",
    "\n",
    "train = X[:2000]\n",
    "train_labels = int_labels[:2000]\n",
    "val = X[2000:]\n",
    "val_labels = int_labels[2000:]"
   ]
  },
  {
   "cell_type": "code",
   "execution_count": null,
   "metadata": {},
   "outputs": [],
   "source": [
    "########################################################\n",
    "# run with the current set of lambdas to test\n",
    "########################################################\n",
    "l, t = None, None\n",
    "bests = []\n",
    "try:\n",
    "    for l in list_of_lambdas:\n",
    "        print(\"\\nLAMBDA: {}\".format(l))\n",
    "        weights = np.random.normal(0, 0.2, n_features)\n",
    "        low_val_loss = 100\n",
    "        for t in range(256):\n",
    "            weights = logistic_regression(train, train_labels, weights, l, alpha, eta_0, t)\n",
    "            val_loss = square_loss(val, val_labels, weights=weights)\n",
    "            train_loss = square_loss(train, train_labels, weights=weights)\n",
    "            if t % 16 == 0:\n",
    "                print(\"{}:\\t#{}\\ttrain {}\\t\\tvalidate {}\".format(l, t, train_loss, val_loss))\n",
    "            if val_loss < low_val_loss:\n",
    "                low_val_loss = val_loss\n",
    "        bests.append([l, low_val_loss])\n",
    "except Exception as e:\n",
    "    print(\"{} #{}: {}\".format(l, t, e), sys.stderr)\n",
    "print(bests)"
   ]
  }
 ],
 "metadata": {
  "kernelspec": {
   "display_name": "Python 2",
   "language": "python",
   "name": "python2"
  },
  "language_info": {
   "codemirror_mode": {
    "name": "ipython",
    "version": 2.0
   },
   "file_extension": ".py",
   "mimetype": "text/x-python",
   "name": "python",
   "nbconvert_exporter": "python",
   "pygments_lexer": "ipython2",
   "version": "2.7.6"
  }
 },
 "nbformat": 4,
 "nbformat_minor": 0
}