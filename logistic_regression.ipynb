{
 "cells": [
  {
   "cell_type": "code",
   "execution_count": 1,
   "metadata": {
    "collapsed": true
   },
   "outputs": [],
   "source": [
    "########################################################\n",
    "# this imports all the functions in logistic regression\n",
    "# you should be able to run this cell at any time to \n",
    "# \"reload\" the functions\n",
    "########################################################\n",
    "\n",
    "from logistic_regression import *"
   ]
  },
  {
   "cell_type": "code",
   "execution_count": 2,
   "metadata": {
    "collapsed": false
   },
   "outputs": [
    {
     "name": "stdout",
     "output_type": "stream",
     "text": [
      "(3000, 6179)\n"
     ]
    }
   ],
   "source": [
    "########################################################\n",
    "# prepare and load the training data.  this involves\n",
    "# reading in the data and finding the best features\n",
    "########################################################\n",
    "\n",
    "# if cant find stopwords you can download using this:\n",
    "# import nltk\n",
    "# nltk.download('stopwords')\n",
    "\n",
    "# init\n",
    "stop_words = stopwords.words('english')\n",
    "train_data = 'train.csv'\n",
    "# test_data = 'test.csv'\n",
    "\n",
    "# interpret data\n",
    "messages, text_labels = read_spam_data(train_data)\n",
    "all_train_data = create_train_data(messages, stop_words)\n",
    "int_labels = create_spam_ham_labels(text_labels, spam=1, ham=0)\n",
    "\n",
    "# get sizes\n",
    "n_messages = len(messages)\n",
    "n_features = all_train_data.shape[1]\n",
    "\n",
    "# make sure everything is still aligned\n",
    "print(all_train_data.shape)\n",
    "assert all_train_data.shape[0] == len(messages)\n",
    "assert all_train_data.shape[0] == len(int_labels)\n",
    "assert all_train_data.shape[0] == len(text_labels)"
   ]
  },
  {
   "cell_type": "code",
   "execution_count": 3,
   "metadata": {
    "collapsed": false
   },
   "outputs": [
    {
     "name": "stdout",
     "output_type": "stream",
     "text": [
      "LAMBDAS:\n",
      "\tbase: 8   log_min: -5   log_max: 1\n",
      "\t[3.0517578125e-05, 0.000244140625, 0.001953125, 0.015625, 0.125, 1, 8]\n"
     ]
    }
   ],
   "source": [
    "########################################################\n",
    "# this is the definition of the hyper parameters for\n",
    "# the regression\n",
    "########################################################\n",
    "\n",
    "# lambda\n",
    "lambda_base = 8 #np.e\n",
    "lambda_exp_min = -5\n",
    "lambda_exp_max = 1\n",
    "list_of_lambdas = [lambda_base**i for i in range(lambda_exp_min,lambda_exp_max+1)] \n",
    "print(\"LAMBDAS:\\n\\tbase: {}   log_min: {}   log_max: {}\\n\\t{}\".format( \n",
    "      lambda_base, lambda_exp_min, lambda_exp_max, list_of_lambdas))\n",
    "\n",
    "# sigmoid params\n",
    "eta_0 = 0.1\n",
    "alpha = 0.9"
   ]
  },
  {
   "cell_type": "code",
   "execution_count": 4,
   "metadata": {
    "collapsed": true
   },
   "outputs": [],
   "source": [
    "########################################################\n",
    "# divide the data for 10-fold cross validation\n",
    "########################################################\n",
    "\n",
    "# identifiers\n",
    "TRAIN_DATA = \"t_data\"\n",
    "TRAIN_LABELS = \"t_labels\"\n",
    "VALIDATE_DATA = \"v_data\"\n",
    "VALIDATE_LABELS = \"v_labels\"\n",
    "\n",
    "# prep\n",
    "number_of_buckets = 10\n",
    "size_of_bucket = int(n_messages / number_of_buckets)\n",
    "all_train_buckets = dict()\n",
    "\n",
    "# divide into buckets\n",
    "idx = 0\n",
    "for b in range(number_of_buckets):\n",
    "    data = all_train_data[idx:idx+size_of_bucket]\n",
    "    labels = int_labels[idx:idx+size_of_bucket]\n",
    "    all_train_buckets[b] = [data, labels]\n",
    "    idx += size_of_bucket\n",
    "    \n",
    "    \n",
    "# how to create train and validation data sets\n",
    "def get_train_data_set(idx):\n",
    "    t_data, t_labels = list(), list()\n",
    "    v_data, v_labels = None, None\n",
    "    for k in all_train_buckets.keys():\n",
    "        v = all_train_buckets[k]\n",
    "        if k == idx:\n",
    "            v_data = v[0]\n",
    "            v_labels = v[1]\n",
    "        else:\n",
    "            t_data.append(v[0])\n",
    "            t_labels.append(v[1])\n",
    "    return {\n",
    "        TRAIN_DATA: np.vstack(t_data), \n",
    "        TRAIN_LABELS: np.hstack(t_labels),  \n",
    "        VALIDATE_DATA: v_data, \n",
    "        VALIDATE_LABELS: v_labels\n",
    "    }\n",
    "\n",
    "# get data\n",
    "all_training_datasets = [get_train_data_set(x) for x in list(range(number_of_buckets))]\n",
    "\n",
    "# validation\n",
    "assert len(all_training_datasets) == number_of_buckets\n",
    "for ds in all_training_datasets:\n",
    "    assert ds[TRAIN_DATA].shape[1] == n_features\n",
    "    assert ds[TRAIN_DATA].shape[0] == len(ds[TRAIN_LABELS])\n",
    "    assert ds[VALIDATE_DATA].shape[1] == n_features\n",
    "    assert ds[VALIDATE_DATA].shape[0] == len(ds[VALIDATE_LABELS])"
   ]
  },
  {
   "cell_type": "code",
   "execution_count": 5,
   "metadata": {
    "collapsed": true
   },
   "outputs": [],
   "source": [
    "########################################################\n",
    "# definition of our regression function\n",
    "########################################################\n",
    "\n",
    "\n",
    "def run_regression(lamda, train, train_labels, validate, validate_labels, \n",
    "                   eta_0=0.1, alpha=0.9, iterations=321, verbose=False):\n",
    "    # init\n",
    "    report_frequency = int(iterations / 16.0)\n",
    "    t = None\n",
    "    \n",
    "    #run regression\n",
    "    try:\n",
    "        weights = np.random.normal(0, 0.2, n_features)\n",
    "        min_validate_loss = sys.maxsize\n",
    "        min_train_loss = sys.maxsize\n",
    "        for t in range(iterations):\n",
    "            weights = logistic_regression(train, train_labels, weights, lamda, alpha, eta_0, t)\n",
    "            train_loss = square_loss(train, train_labels, weights=weights)\n",
    "            val_loss = square_loss(validate, validate_labels, weights=weights)\n",
    "            if verbose and t % report_frequency == 0:\n",
    "                print(\"{}:\\t#{}\\ttrain {}  \\t\\tvalidate {}\".format(l, t, train_loss, val_loss))\n",
    "            if val_loss < min_validate_loss: min_validate_loss = val_loss\n",
    "            if train_loss < min_train_loss: min_train_loss = train_loss\n",
    "    except Exception as e:\n",
    "        print(\"\\nlambda {} #{}: {}\".format(l, t, e), sys.stderr)\n",
    "        import traceback\n",
    "        traceback.print_exc()\n",
    "        return False\n",
    "    \n",
    "    # return best\n",
    "    return min_validate_loss, min_train_loss"
   ]
  },
  {
   "cell_type": "code",
   "execution_count": 7,
   "metadata": {
    "collapsed": false,
    "scrolled": true
   },
   "outputs": [
    {
     "name": "stdout",
     "output_type": "stream",
     "text": [
      "\n",
      "LAMBDA: 3.0517578125e-05\n",
      "\t.......... (242s)\n",
      "\tv errors:    [3.601944567773115, 5.126723059226755, 4.69628300427327, 4.362012572187413, 5.115444042126252, 4.849465669743748, 3.037527231352174, 3.481046144031262, 3.2816651290553724, 2.708917012941429]\n",
      "\tv error avg: 4.026102843271079\n",
      "\tv error std: 0.8591494081939728\n",
      "\n",
      "LAMBDA: 0.000244140625\n",
      "\t.......... (239s)\n",
      "\tv errors:    [3.7562569733760682, 5.285522118512344, 4.582698887211249, 4.416052327634183, 5.209433925986202, 4.9398900928895895, 2.9930710696139022, 3.4185866830568297, 3.2708317445933734, 2.6906466585696056]\n",
      "\tv error avg: 4.056299048144334\n",
      "\tv error std: 0.9020578210898214\n",
      "\n",
      "LAMBDA: 0.001953125\n",
      "\t.......... (241s)\n",
      "\tv errors:    [3.807329290451486, 5.225596623262764, 4.456039619698975, 4.455245591057886, 4.982620831985673, 4.714186949820167, 3.043599256440931, 3.5047926435439494, 3.419934368738568, 2.7098529289718862]\n",
      "\tv error avg: 4.031919810397229\n",
      "\tv error std: 0.811217358886829\n",
      "\n",
      "LAMBDA: 0.015625\n",
      "\t.......... (241s)\n",
      "\tv errors:    [3.6196751816783603, 4.909171449321173, 4.6588861906807315, 4.410598116104308, 5.045330509960864, 4.753570945298457, 3.5225202224564716, 2.960507636128324, 1.8476321984827195, 2.9107934763629584]\n",
      "\tv error avg: 3.8638685926474374\n",
      "\tv error std: 1.008802174736843\n",
      "\n",
      "LAMBDA: 0.125\n",
      "\t.......... (243s)\n",
      "\tv errors:    [5.3686828425230635, 5.51725324056301, 5.746669377337187, 5.398733715562609, 5.9081503745288995, 5.912159589679541, 4.312682893147182, 5.21389874118333, 4.316408288291217, 4.253160759105663]\n",
      "\tv error avg: 5.19477998219217\n",
      "\tv error std: 0.6277408263213179\n",
      "\n",
      "LAMBDA: 1\n",
      "\t.......... (242s)\n",
      "\tv errors:    [11.342826137973827, 11.185167672974249, 10.453552743090844, 10.060206333412022, 10.59268957100873, 10.721090999606341, 9.958212357931766, 10.013852706126283, 10.072411446828182, 9.163694475685448]\n",
      "\tv error avg: 10.356370444463769\n",
      "\tv error std: 0.6103263074607894\n",
      "\n",
      "LAMBDA: 8\n",
      "\t"
     ]
    },
    {
     "name": "stderr",
     "output_type": "stream",
     "text": [
      "D:\\ucsc_projects\\classes\\cmps242\\hw2\\cmpshw3\\logistic_regression.py:140: RuntimeWarning: overflow encountered in multiply\n",
      "  new_weights = weights*(1-(eta*l)) - (eta*np.matmul(np.array(y_hat-labels), inputs))\n"
     ]
    },
    {
     "name": "stdout",
     "output_type": "stream",
     "text": [
      ".......... (249s)\n",
      "\tv errors:    [20.40657752518949, 19.47673559894683, 18.06030096934704, 17.489633361140548, 19.484051367707956, 18.821809507785417, 17.00178074003283, 18.818893070413857, 20.078133771575086, 16.3520927609463]\n",
      "\tv error avg: 18.59900086730854\n",
      "\tv error std: 1.2738719895835382\n"
     ]
    }
   ],
   "source": [
    "########################################################\n",
    "# run on each of our k-folded datasets\n",
    "########################################################\n",
    "\n",
    "# prep\n",
    "lambda_to_validate_errors = dict()\n",
    "lambda_to_training_errors = dict()\n",
    "\n",
    "# calculate for our lambdas\n",
    "for l in list_of_lambdas:\n",
    "    start = timer()\n",
    "    print(\"\\nLAMBDA: {}\\n\\t\".format(l),end='')\n",
    "    v_errors = list()\n",
    "    t_errors = list()\n",
    "    lambda_to_validate_errors[l] = v_errors\n",
    "    lambda_to_training_errors[l] = t_errors\n",
    "    for dataset in all_training_datasets:\n",
    "        v_error, t_error = run_regression(l, dataset[TRAIN_DATA], dataset[TRAIN_LABELS], \n",
    "                       dataset[VALIDATE_DATA], dataset[VALIDATE_LABELS])\n",
    "        v_errors.append(v_error)\n",
    "        t_errors.append(t_error)\n",
    "        print('.', end='')\n",
    "    print(\" ({}s)\".format(int(timer() - start)))\n",
    "    print(\"\\tv errors:    {}\".format(v_errors))\n",
    "    print(\"\\tv error avg: {}\".format(np.mean(v_errors)))\n",
    "    print(\"\\tv error std: {}\".format(np.std(v_errors)))"
   ]
  },
  {
   "cell_type": "code",
   "execution_count": 44,
   "metadata": {
    "collapsed": false
   },
   "outputs": [
    {
     "data": {
      "image/png": "[encoded data removed]",
      "text/plain": [
       "<matplotlib.figure.Figure at 0x20e7daa40f0>"
      ]
     },
     "metadata": {},
     "output_type": "display_data"
    }
   ],
   "source": [
    "########################################################\n",
    "# analyze and print plots of the data\n",
    "########################################################\n",
    "%matplotlib inline\n",
    "import matplotlib.pyplot as plt\n",
    "\n",
    "def get_plot_data(items):\n",
    "    items.sort(key=lambda x: x[0])\n",
    "    x, y, var, log_lambda = list(), list(), list(), lambda_exp_min\n",
    "    for k, v in items:\n",
    "        x.append(log_lambda)\n",
    "        y.append(np.mean(v))\n",
    "        var.append(np.std(v)**2)\n",
    "        assert lambda_base**log_lambda == k\n",
    "        log_lambda += 1\n",
    "    return x, y, var\n",
    "\n",
    "validate_x, validate_y, validate_v = get_plot_data(list(lambda_to_validate_errors.items()))\n",
    "train_x, train_y, train_v = get_plot_data(list(lambda_to_training_errors.items()))\n",
    "\n",
    "plt.errorbar(train_x, train_y, train_v, None, 'bo-', label=\"Train\")\n",
    "plt.errorbar(validate_x, validate_y, validate_v, None, 'ro-', label=\"Validate\")\n",
    "plt.axis([lambda_exp_min-.5, lambda_exp_max-.5, -2, 20])\n",
    "plt.legend(bbox_to_anchor=(.31,.95))\n",
    "plt.title(\"Logistic Regression Error Rates\")\n",
    "plt.xlabel(\"Log of Lambda (Base {})\".format(lambda_base))\n",
    "plt.ylabel(\"Error\")\n",
    "\n",
    "plt.show()"
   ]
  }
 ],
 "metadata": {
  "anaconda-cloud": {},
  "kernelspec": {
   "display_name": "Python [conda root]",
   "language": "python",
   "name": "conda-root-py"
  },
  "language_info": {
   "codemirror_mode": {
    "name": "ipython",
    "version": 3
   },
   "file_extension": ".py",
   "mimetype": "text/x-python",
   "name": "python",
   "nbconvert_exporter": "python",
   "pygments_lexer": "ipython3",
   "version": "3.5.2"
  }
 },
 "nbformat": 4,
 "nbformat_minor": 0
}
